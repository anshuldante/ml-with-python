{
 "cells": [
  {
   "cell_type": "code",
   "execution_count": 1,
   "metadata": {},
   "outputs": [],
   "source": [
    "from sklearn.metrics import mean_absolute_error as mae"
   ]
  },
  {
   "cell_type": "code",
   "execution_count": 6,
   "metadata": {},
   "outputs": [],
   "source": [
    "from sklearn.metrics import median_absolute_error as mde"
   ]
  },
  {
   "cell_type": "code",
   "execution_count": 7,
   "metadata": {},
   "outputs": [],
   "source": [
    "from sklearn.metrics import mean_squared_error as mse"
   ]
  },
  {
   "cell_type": "code",
   "execution_count": 8,
   "metadata": {},
   "outputs": [],
   "source": [
    "from sklearn.metrics import r2_score as r2"
   ]
  },
  {
   "cell_type": "code",
   "execution_count": 9,
   "metadata": {},
   "outputs": [],
   "source": [
    "output=[1,2,3,4,5]\n",
    "predicted_output=[1,2,3,4,5]"
   ]
  },
  {
   "cell_type": "code",
   "execution_count": 11,
   "metadata": {},
   "outputs": [
    {
     "name": "stdout",
     "output_type": "stream",
     "text": [
      "Mean absolute Error: 0.0\n",
      "Median absolute Error: 0.0\n",
      "Mean Squared Error: 0.0\n",
      "R Squared Error: 1.0\n"
     ]
    }
   ],
   "source": [
    "print(f'Mean absolute Error: {mae(output, predicted_output)}')\n",
    "print(f'Median absolute Error: {mde(output, predicted_output)}')\n",
    "print(f'Mean Squared Error: {mse(output, predicted_output)}')\n",
    "print(f'R Squared: {r2(output, predicted_output)}')"
   ]
  },
  {
   "cell_type": "code",
   "execution_count": 12,
   "metadata": {},
   "outputs": [
    {
     "name": "stdout",
     "output_type": "stream",
     "text": [
      "Mean absolute Error: 0.05\n",
      "Median absolute Error: 0.04999999999999982\n",
      "Mean Squared Error: 0.004500000000000003\n",
      "R Squared: 0.99775\n"
     ]
    }
   ],
   "source": [
    "output=[1,2,3,4,5]\n",
    "predicted_output=[1,2.1,2.9,4.05,5]\n",
    "\n",
    "print(f'Mean absolute Error: {mae(output, predicted_output)}')\n",
    "print(f'Median absolute Error: {mde(output, predicted_output)}')\n",
    "print(f'Mean Squared Error: {mse(output, predicted_output)}')\n",
    "print(f'R Squared: {r2(output, predicted_output)}')"
   ]
  },
  {
   "cell_type": "code",
   "execution_count": 13,
   "metadata": {},
   "outputs": [
    {
     "name": "stdout",
     "output_type": "stream",
     "text": [
      "Mean absolute Error: 0.08000000000000007\n",
      "Median absolute Error: 0.0\n",
      "Mean Squared Error: 0.016000000000000028\n",
      "R Squared: 0.992\n"
     ]
    }
   ],
   "source": [
    "output=[1,2,3,4,5]\n",
    "predicted_output=[1,2.2,3.2,4,5]\n",
    "\n",
    "print(f'Mean absolute Error: {mae(output, predicted_output)}')\n",
    "print(f'Median absolute Error: {mde(output, predicted_output)}')\n",
    "print(f'Mean Squared Error: {mse(output, predicted_output)}')\n",
    "print(f'R Squared: {r2(output, predicted_output)}')"
   ]
  },
  {
   "cell_type": "code",
   "execution_count": 14,
   "metadata": {},
   "outputs": [
    {
     "name": "stdout",
     "output_type": "stream",
     "text": [
      "Mean absolute Error: 10.0\n",
      "Median absolute Error: 0.0\n",
      "Mean Squared Error: 500.0\n",
      "R Squared: -249.0\n"
     ]
    }
   ],
   "source": [
    "output=[1,2,3,4,5]\n",
    "predicted_output=[1,2,3,4,55]\n",
    "\n",
    "print(f'Mean absolute Error: {mae(output, predicted_output)}')\n",
    "print(f'Median absolute Error: {mde(output, predicted_output)}')\n",
    "print(f'Mean Squared Error: {mse(output, predicted_output)}')\n",
    "print(f'R Squared: {r2(output, predicted_output)}')"
   ]
  },
  {
   "cell_type": "code",
   "execution_count": 15,
   "metadata": {},
   "outputs": [],
   "source": [
    "# Large errors: Rot mean squared\n",
    "# many small errors: mean absolute errors\n",
    "# For comparing scores, use all metrics"
   ]
  },
  {
   "cell_type": "code",
   "execution_count": null,
   "metadata": {},
   "outputs": [],
   "source": []
  }
 ],
 "metadata": {
  "kernelspec": {
   "display_name": "Python 3.7.6 64-bit ('anaconda3': virtualenv)",
   "language": "python",
   "name": "python37664bitanaconda3virtualenv14f0be09cba74924b59e6e390c97b227"
  },
  "language_info": {
   "codemirror_mode": {
    "name": "ipython",
    "version": 3
   },
   "file_extension": ".py",
   "mimetype": "text/x-python",
   "name": "python",
   "nbconvert_exporter": "python",
   "pygments_lexer": "ipython3",
   "version": "3.7.6"
  }
 },
 "nbformat": 4,
 "nbformat_minor": 4
}
