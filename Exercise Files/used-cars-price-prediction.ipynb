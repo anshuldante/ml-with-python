{
 "cells": [
  {
   "cell_type": "code",
   "execution_count": 1,
   "metadata": {},
   "outputs": [],
   "source": [
    "import pandas as pd\n",
    "from sklearn.linear_model import LinearRegression\n",
    "from sklearn.metrics import mean_squared_error as mse"
   ]
  },
  {
   "cell_type": "code",
   "execution_count": 2,
   "metadata": {},
   "outputs": [],
   "source": [
    "def get_rmse(datafile,target,cols2drop):\n",
    "    dataframe=pd.read_csv(datafile)\n",
    "    output = dataframe[target]\n",
    "    input  = pd.get_dummies(dataframe.drop(columns=cols2drop))\n",
    "    print(input.columns)\n",
    "    model = LinearRegression()\n",
    "    model.fit(input,output)\n",
    "    print(\"MSE ={} , Score = {}\".format(mse(output,model.predict(input)) ** 0.5,model.score(input,output)))"
   ]
  },
  {
   "cell_type": "code",
   "execution_count": 3,
   "metadata": {},
   "outputs": [
    {
     "name": "stdout",
     "output_type": "stream",
     "text": [
      "Index(['year', 'mileage'], dtype='object')\n",
      "MSE =1467.8516442192565 , Score = 0.7775309989289816\n"
     ]
    }
   ],
   "source": [
    "get_rmse(\"usedcars.csv\",'price',['price','transmission','model','color'])"
   ]
  },
  {
   "cell_type": "code",
   "execution_count": 4,
   "metadata": {},
   "outputs": [
    {
     "name": "stdout",
     "output_type": "stream",
     "text": [
      "Index(['year', 'mileage', 'transmission_AUTO', 'transmission_MANUAL'], dtype='object')\n",
      "MSE =1438.8052105743106 , Score = 0.7862484949626255\n"
     ]
    }
   ],
   "source": [
    "get_rmse(\"usedcars.csv\",'price',['price','model','color'])"
   ]
  },
  {
   "cell_type": "code",
   "execution_count": 5,
   "metadata": {},
   "outputs": [
    {
     "name": "stdout",
     "output_type": "stream",
     "text": [
      "Index(['year', 'mileage', 'color_Black', 'color_Blue', 'color_Gold',\n",
      "       'color_Gray', 'color_Green', 'color_Red', 'color_Silver', 'color_White',\n",
      "       'color_Yellow'],\n",
      "      dtype='object')\n",
      "MSE =1394.6165134570642 , Score = 0.7991763833381302\n"
     ]
    }
   ],
   "source": [
    "get_rmse(\"usedcars.csv\",'price',['price','transmission','model'])"
   ]
  },
  {
   "cell_type": "code",
   "execution_count": 6,
   "metadata": {},
   "outputs": [
    {
     "name": "stdout",
     "output_type": "stream",
     "text": [
      "Index(['year', 'mileage', 'color_Black', 'color_Blue', 'color_Gold',\n",
      "       'color_Gray', 'color_Green', 'color_Red', 'color_Silver', 'color_White',\n",
      "       'color_Yellow', 'transmission_AUTO', 'transmission_MANUAL'],\n",
      "      dtype='object')\n",
      "MSE =1364.5794055824538 , Score = 0.8077338621150365\n"
     ]
    }
   ],
   "source": [
    "get_rmse(\"usedcars.csv\",'price',['price','model'])"
   ]
  },
  {
   "cell_type": "code",
   "execution_count": 7,
   "metadata": {},
   "outputs": [
    {
     "name": "stdout",
     "output_type": "stream",
     "text": [
      "Index(['year', 'mileage', 'model_SE', 'model_SEL', 'model_SES'], dtype='object')\n",
      "MSE =1323.126127288328 , Score = 0.8192377792519198\n"
     ]
    }
   ],
   "source": [
    "get_rmse(\"usedcars.csv\",'price',['price','transmission','color'])"
   ]
  },
  {
   "cell_type": "code",
   "execution_count": 8,
   "metadata": {},
   "outputs": [
    {
     "name": "stdout",
     "output_type": "stream",
     "text": [
      "Index(['year', 'mileage', 'model_SE', 'model_SEL', 'model_SES',\n",
      "       'transmission_AUTO', 'transmission_MANUAL'],\n",
      "      dtype='object')\n",
      "MSE =1308.6284612550269 , Score = 0.8231773477625386\n"
     ]
    }
   ],
   "source": [
    "get_rmse(\"usedcars.csv\",'price',['price','color'])"
   ]
  },
  {
   "cell_type": "code",
   "execution_count": 9,
   "metadata": {},
   "outputs": [
    {
     "name": "stdout",
     "output_type": "stream",
     "text": [
      "Index(['year', 'mileage', 'model_SE', 'model_SEL', 'model_SES', 'color_Black',\n",
      "       'color_Blue', 'color_Gold', 'color_Gray', 'color_Green', 'color_Red',\n",
      "       'color_Silver', 'color_White', 'color_Yellow'],\n",
      "      dtype='object')\n",
      "MSE =1282.7946380311198 , Score = 0.8300898006849602\n"
     ]
    }
   ],
   "source": [
    "get_rmse(\"usedcars.csv\",'price',['price','transmission'])"
   ]
  },
  {
   "cell_type": "code",
   "execution_count": 10,
   "metadata": {},
   "outputs": [
    {
     "name": "stdout",
     "output_type": "stream",
     "text": [
      "Index(['year', 'mileage', 'model_SE', 'model_SEL', 'model_SES', 'color_Black',\n",
      "       'color_Blue', 'color_Gold', 'color_Gray', 'color_Green', 'color_Red',\n",
      "       'color_Silver', 'color_White', 'color_Yellow', 'transmission_AUTO',\n",
      "       'transmission_MANUAL'],\n",
      "      dtype='object')\n",
      "MSE =1264.6549730747315 , Score = 0.8348611371267023\n"
     ]
    }
   ],
   "source": [
    "get_rmse(\"usedcars.csv\",'price',['price'])"
   ]
  },
  {
   "cell_type": "code",
   "execution_count": null,
   "metadata": {},
   "outputs": [],
   "source": []
  }
 ],
 "metadata": {
  "kernelspec": {
   "display_name": "Python 3",
   "language": "python",
   "name": "python3"
  },
  "language_info": {
   "codemirror_mode": {
    "name": "ipython",
    "version": 3
   },
   "file_extension": ".py",
   "mimetype": "text/x-python",
   "name": "python",
   "nbconvert_exporter": "python",
   "pygments_lexer": "ipython3",
   "version": "3.7.6"
  }
 },
 "nbformat": 4,
 "nbformat_minor": 4
}
